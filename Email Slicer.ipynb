{
 "cells": [
  {
   "cell_type": "code",
   "execution_count": 1,
   "id": "c49e7442",
   "metadata": {},
   "outputs": [
    {
     "name": "stdout",
     "output_type": "stream",
     "text": [
      "Enter your email:sailokesh674@gmail.com\n",
      "Username sailokesh674\n",
      "Domain gmail.com\n"
     ]
    }
   ],
   "source": [
    "def email_slicer(email):\n",
    "    username,domain=email.split(\"@\")\n",
    "    return username,domain\n",
    "email=input(\"Enter your email:\")\n",
    "username,domain=email_slicer(email)\n",
    "print(\"Username\",username)\n",
    "print(\"Domain\",domain)"
   ]
  },
  {
   "cell_type": "code",
   "execution_count": null,
   "id": "00e0d31d",
   "metadata": {},
   "outputs": [],
   "source": []
  }
 ],
 "metadata": {
  "kernelspec": {
   "display_name": "Python 3 (ipykernel)",
   "language": "python",
   "name": "python3"
  },
  "language_info": {
   "codemirror_mode": {
    "name": "ipython",
    "version": 3
   },
   "file_extension": ".py",
   "mimetype": "text/x-python",
   "name": "python",
   "nbconvert_exporter": "python",
   "pygments_lexer": "ipython3",
   "version": "3.11.3"
  }
 },
 "nbformat": 4,
 "nbformat_minor": 5
}
